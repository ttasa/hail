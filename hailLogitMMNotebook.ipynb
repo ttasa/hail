{
 "cells": [
  {
   "cell_type": "code",
   "execution_count": 1,
   "metadata": {
    "collapsed": false
   },
   "outputs": [],
   "source": [
    "#Using this notebook requires set shell paths for SPARK_HOME, PYTHONPATH,\n",
    "#SPARK_CLASSPATH as described in section Buildin Hail from Source at\n",
    "#https://hail.is/docs/stable/getting_started.html\n",
    "\n",
    "#The compiled Hail JAR file for logistic regression  requires HAIL\n",
    "#implementation of Logistic mixed model regression as implemented in\n",
    "#Hail fork ttasa-GLMM-1 at https://github.com/ttasa/hail/tree/ttasa-GLMM-1\n",
    "#Jar file can be obtained by cloning the repository and \n",
    "#building the JAR running \"./gradlew shadowJar\" with shell.\n",
    "from hail import *\n",
    "hc = HailContext()"
   ]
  },
  {
   "cell_type": "code",
   "execution_count": 2,
   "metadata": {
    "collapsed": false
   },
   "outputs": [
    {
     "data": {
      "text/plain": [
       "Summary(samples=200, variants=200, call_rate=0.651550, contigs=['chr1'], multiallelics=0, snps=200, mnps=0, insertions=0, deletions=0, complex=0, star=0, max_alleles=2)"
      ]
     },
     "execution_count": 2,
     "metadata": {},
     "output_type": "execute_result"
    }
   ],
   "source": [
    "vds=hc.read(\"src/test/resources/LogitMM.vds\").annotate_genotypes_expr(\"g = g.GT.toGenotype()\")\n",
    "vds.summarize()"
   ]
  },
  {
   "cell_type": "code",
   "execution_count": 3,
   "metadata": {
    "collapsed": false
   },
   "outputs": [
    {
     "data": {
      "text/plain": [
       "Summary(samples=200, variants=200, call_rate=0.651550, contigs=['chr1'], multiallelics=0, snps=200, mnps=0, insertions=0, deletions=0, complex=0, star=0, max_alleles=2)"
      ]
     },
     "execution_count": 3,
     "metadata": {},
     "output_type": "execute_result"
    }
   ],
   "source": [
    "#Prepare variant dataset for analysis and test with running regular Hail linear regression.\n",
    "annotations = hc.import_table(\"src/test/resources/LogitMM.annot1\", types = {\"pheno1\": TFloat64(), \"cov2\" : TFloat64(),\"cov3\" : TFloat64()}).key_by(\"ID_1\")\n",
    "vds_result = vds.annotate_samples_table(annotations, root='sa.phenotypes')\n",
    "vds_result = vds_result.linreg(['sa.phenotypes.pheno1'], covariates=['sa.phenotypes.cov2', 'sa.phenotypes.cov3'])\n",
    "vds_result.summarize()"
   ]
  },
  {
   "cell_type": "code",
   "execution_count": 4,
   "metadata": {
    "collapsed": false
   },
   "outputs": [],
   "source": [
    " #Perform logistic mixed model regression ( Mixed model Polya-Gamma approach with expectation maximisation )\n",
    "vds_result = vds_result.logmmreg('sa.phenotypes.pheno1', cov=['sa.phenotypes.cov2', 'sa.phenotypes.cov3'])"
   ]
  },
  {
   "cell_type": "code",
   "execution_count": 10,
   "metadata": {
    "collapsed": false
   },
   "outputs": [
    {
     "name": "stdout",
     "output_type": "stream",
     "text": [
      "Struct{u'logmmreg': Struct{u'c': 1.0, u'beta': {u'intercept': 0.5061125835792826, u'sa.phenotypes.cov3': -0.4217788267192358, u'sa.phenotypes.cov2': 0.20438210979155244}, u'phi': 0.007}}\n"
     ]
    }
   ],
   "source": [
    "#Prints annotated variant dataset result\n",
    "v_table=vds_result.globals\n",
    "print (v_table)"
   ]
  },
  {
   "cell_type": "code",
   "execution_count": 11,
   "metadata": {
    "collapsed": false
   },
   "outputs": [],
   "source": [
    "#Perform  logistic mixedmodel analysis with different covariance parameters and \n",
    "#due to small size of data, use direct instead of approximate \n",
    "#linear equation solver (method: Direct).\n",
    "vds_result = vds_result.logmmreg('sa.phenotypes.pheno1',cov=['sa.phenotypes.cov2', 'sa.phenotypes.cov3'],phi=2.0,c=2.3,optMethod=\"Direct\")"
   ]
  },
  {
   "cell_type": "code",
   "execution_count": 7,
   "metadata": {
    "collapsed": false
   },
   "outputs": [
    {
     "name": "stdout",
     "output_type": "stream",
     "text": [
      "Struct{u'logmmreg': Struct{u'c': 2.3, u'beta': {u'intercept': 0.5350008508464963, u'sa.phenotypes.cov3': -0.42513039478540937, u'sa.phenotypes.cov2': 0.18737730635415528}, u'phi': 2.0}}\n"
     ]
    }
   ],
   "source": [
    "#Print out new set of results\n",
    "v_table=vds_result.globals\n",
    "print (v_table)"
   ]
  },
  {
   "cell_type": "code",
   "execution_count": 8,
   "metadata": {
    "collapsed": false
   },
   "outputs": [],
   "source": [
    "##Generate data from Balding Nichols model\n",
    "from hail.stats import TruncatedBetaDist\n",
    "vds_2 = hc.balding_nichols_model(4, 200, 200, 2,\n",
    "                             pop_dist=[0.1, 0.2, 0.3, 0.4],\n",
    "                                fst=[.02, .06, .04, .12],\n",
    "                                af_dist=TruncatedBetaDist(a=1.6, b=0.9, minVal=0.1, maxVal=0.95),seed=1)"
   ]
  },
  {
   "cell_type": "code",
   "execution_count": 21,
   "metadata": {
    "collapsed": false
   },
   "outputs": [],
   "source": [
    "#Annotate with previously used annotations\n",
    "annotations = hc.import_table(\"src/test/resources/LogitMM.annot\", types = {\"pheno1\": TFloat64(), \"cov2\" : TFloat64(),\"cov3\" : TFloat64()}).key_by(\"ID_1\")"
   ]
  },
  {
   "cell_type": "code",
   "execution_count": 22,
   "metadata": {
    "collapsed": false
   },
   "outputs": [],
   "source": [
    "vds_2 = vds_2.annotate_samples_table(annotations, root='sa.phenotypes')"
   ]
  },
  {
   "cell_type": "code",
   "execution_count": 23,
   "metadata": {
    "collapsed": false
   },
   "outputs": [],
   "source": [
    "vds_result2 = vds_2.logmmreg('sa.phenotypes.pheno1', cov=['sa.phenotypes.cov2', \n",
    "     'sa.phenotypes.cov3'],phi=0.007,optMethod='LBFGS')"
   ]
  },
  {
   "cell_type": "code",
   "execution_count": 24,
   "metadata": {
    "collapsed": true
   },
   "outputs": [],
   "source": [
    "vds_result2 = vds_2.logmmreg('sa.phenotypes.pheno1', cov=['sa.phenotypes.cov2', 'sa.phenotypes.cov3'],\n",
    "            phi=0.2,optMethod=\"Direct\")"
   ]
  },
  {
   "cell_type": "code",
   "execution_count": 25,
   "metadata": {
    "collapsed": false
   },
   "outputs": [
    {
     "name": "stdout",
     "output_type": "stream",
     "text": [
      "Struct{u'ancestralAFDist': Struct{u'a': 1.6, u'maxVal': 0.95, u'b': 0.9, u'type': u'TruncatedBetaDist', u'minVal': 0.1}, u'logmmreg': Struct{u'c': 1.0, u'beta': {u'intercept': 0.5063141361639452, u'sa.phenotypes.cov3': -0.4206565557494321, u'sa.phenotypes.cov2': 0.21050647010858073}, u'phi': 0.2}, u'popDist': [0.1, 0.2, 0.3, 0.4], u'nPops': 4, u'nVariants': 200, u'seed': 1, u'Fst': [0.02, 0.06, 0.04, 0.12], u'nSamples': 200}\n"
     ]
    }
   ],
   "source": [
    "v_table=vds_result2.globals\n",
    "print (v_table)"
   ]
  },
  {
   "cell_type": "code",
   "execution_count": 32,
   "metadata": {
    "collapsed": false
   },
   "outputs": [
    {
     "name": "stdout",
     "output_type": "stream",
     "text": [
      "Struct{u'ancestralAFDist': Struct{u'a': 1.6, u'maxVal': 0.95, u'b': 0.9, u'type': u'TruncatedBetaDist', u'minVal': 0.1}, u'logmmreg': Struct{u'c': 1.0, u'beta': {u'intercept': 0.5063141361639452, u'sa.phenotypes.cov3': -0.4206565557494321, u'sa.phenotypes.cov2': 0.21050647010858073}, u'phi': 0.2}, u'popDist': [0.1, 0.2, 0.3, 0.4], u'nPops': 4, u'nVariants': 200, u'seed': 1, u'Fst': [0.02, 0.06, 0.04, 0.12], u'nSamples': 200}\n"
     ]
    }
   ],
   "source": [
    "#Export genotype data, samples and variants and print global annotations\n",
    "vds_2.export_genotypes('output/genotypes.tsv', 's,v,g.gt ,sa.phenotypes.cov,sa.phenotypes.cov2,sa.phenotypes.cov3,sa.phenotypes.pheno1')\n",
    "v_table=vds_result2.globals\n",
    "print (v_table)"
   ]
  }
 ],
 "metadata": {
  "kernelspec": {
   "display_name": "Python 2",
   "language": "python",
   "name": "python2"
  },
  "language_info": {
   "codemirror_mode": {
    "name": "ipython",
    "version": 2
   },
   "file_extension": ".py",
   "mimetype": "text/x-python",
   "name": "python",
   "nbconvert_exporter": "python",
   "pygments_lexer": "ipython2",
   "version": "2.7.10"
  }
 },
 "nbformat": 4,
 "nbformat_minor": 1
}
